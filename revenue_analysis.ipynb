{
 "cells": [
  {
   "cell_type": "code",
   "execution_count": 1,
   "metadata": {},
   "outputs": [],
   "source": [
    "#!pip install pandas\n",
    "#!pip install psycopg2"
   ]
  },
  {
   "cell_type": "code",
   "execution_count": 2,
   "metadata": {},
   "outputs": [],
   "source": [
    "import psycopg2\n",
    "import pandas as pd\n",
    "import glob\n",
    "from datetime import datetime\n",
    "from sqlalchemy import create_engine"
   ]
  },
  {
   "cell_type": "code",
   "execution_count": 3,
   "metadata": {},
   "outputs": [],
   "source": [
    "def create_revenuedb_connection():\n",
    "    conn = psycopg2.connect(\"host=127.0.0.1 dbname=airline_revenue user=postgres password=cherry\")\n",
    "    cur = conn.cursor()\n",
    "\n",
    "    return cur, conn"
   ]
  },
  {
   "cell_type": "code",
   "execution_count": 4,
   "metadata": {},
   "outputs": [],
   "source": [
    "def create_database():\n",
    "    # connect to default database\n",
    "    conn = psycopg2.connect(\"host=127.0.0.1 dbname=postgres user=postgres password=cherry\")\n",
    "    conn.set_session(autocommit=True)\n",
    "    cur = conn.cursor()\n",
    "\n",
    "    # create new database\n",
    "    cur.execute(\"DROP DATABASE IF EXISTS airline_revenue\")\n",
    "    cur.execute(\"CREATE DATABASE airline_revenue\")\n",
    "\n",
    "    # commit and close connection to default database\n",
    "    conn.close()\n",
    "\n",
    "    # connect to new database\n",
    "    cur, conn = create_revenuedb_connection()\n",
    "\n",
    "    return cur, conn"
   ]
  },
  {
   "cell_type": "code",
   "execution_count": 5,
   "metadata": {},
   "outputs": [],
   "source": [
    "def extract_from_csv(file):\n",
    "    dataframe = pd.read_csv(file)\n",
    "    return dataframe"
   ]
  },
  {
   "cell_type": "code",
   "execution_count": 6,
   "metadata": {},
   "outputs": [],
   "source": [
    "def extract():\n",
    "    # create an empty list\n",
    "    extracted_data = list()\n",
    "    \n",
    "    # process all csv files\n",
    "    for csvfile in glob.glob(\"./data/*.csv\"):\n",
    "        extracted_data.append(extract_from_csv(csvfile))\n",
    "        print(csvfile)\n",
    "                \n",
    "    return extracted_data"
   ]
  },
  {
   "cell_type": "code",
   "execution_count": 7,
   "metadata": {},
   "outputs": [],
   "source": [
    "def transform(data):\n",
    "    tranformed_data = list()\n",
    "    asm_df = data[0]\n",
    "    or_df = data[1]\n",
    "    flights_df = data[2]\n",
    "    netincome_df = data[3]\n",
    "    rpm_df = data[4]\n",
    "    passengers_df = data[5]\n",
    "\n",
    "    month_id_data = pd.Series(range(1, rpm_df.shape[0]+1))\n",
    "    quarter_id_data = pd.Series(range(1, or_df.shape[0]+1))\n",
    "    asm_id_data = pd.Series(range(1, asm_df.shape[0]+1))\n",
    "    rpm_id_data = pd.Series(range(1, rpm_df.shape[0]+1))\n",
    "\n",
    "    transfomrmed_months_data = pd.DataFrame(columns=['MONTH ID', 'YEAR', 'MONTH'])\n",
    "    transfomrmed_quarters_data = pd.DataFrame(columns=['QUARTER ID', 'YEAR', 'QUARTER'])\n",
    "    transformed_plf_data = pd.DataFrame(columns=['ASM ID', 'RPM ID','MONTH ID','DOMESTIC PLF(%)','INTERNATIONAL PLF(%)','TOTAL PLF(%)'])\n",
    "    \n",
    "    transfomrmed_months_data['MONTH ID'] = month_id_data\n",
    "    transfomrmed_months_data['YEAR'] = rpm_df['YEAR'].astype('int')\n",
    "    transfomrmed_months_data['MONTH'] = rpm_df['MONTH'].astype('int')\n",
    "    \n",
    "    transfomrmed_quarters_data['QUARTER ID'] = quarter_id_data\n",
    "    transfomrmed_quarters_data['YEAR'] = or_df['YEAR'].astype('int')\n",
    "    transfomrmed_quarters_data['QUARTER'] = or_df['QUARTER'].astype('int')\n",
    "    \n",
    "    transformed_plf_data['ASM ID'] = asm_id_data\n",
    "    transformed_plf_data['RPM ID'] = rpm_id_data\n",
    "    transformed_plf_data['MONTH ID'] = month_id_data\n",
    "    transformed_plf_data['DOMESTIC PLF(%)'] = round(rpm_df['DOMESTIC(IN THOUSANDS)'] / asm_df['DOMESTIC(IN THOUSANDS)'] * 100, 2)\n",
    "    transformed_plf_data['INTERNATIONAL PLF(%)'] = round(rpm_df['INTERNATIONAL(IN THOUSANDS)'] / asm_df['INTERNATIONAL(IN THOUSANDS)'] * 100, 2)\n",
    "    transformed_plf_data['TOTAL PLF(%)'] = round((transformed_plf_data['DOMESTIC PLF(%)'] + transformed_plf_data['INTERNATIONAL PLF(%)']) / 2, 2)\n",
    "    \n",
    "    tranformed_data.append(transfomrmed_months_data)\n",
    "    tranformed_data.append(transfomrmed_quarters_data)\n",
    "    tranformed_data.append(asm_df)\n",
    "    tranformed_data.append(rpm_df)\n",
    "    tranformed_data.append(transformed_plf_data)\n",
    "    tranformed_data.append(passengers_df)\n",
    "    tranformed_data.append(flights_df)\n",
    "    tranformed_data.append(netincome_df)\n",
    "    tranformed_data.append(or_df)\n",
    "    \n",
    "    return tranformed_data"
   ]
  },
  {
   "cell_type": "code",
   "execution_count": 8,
   "metadata": {},
   "outputs": [],
   "source": [
    "# Loading dataframes to PostgreSQL directly\n",
    "def load(data):\n",
    "    dialect = 'postgresql'\n",
    "    user_name = 'postgres'\n",
    "    password = 'cherry'\n",
    "    host = '127.0.0.1'\n",
    "    port = '5432'\n",
    "    db_name = 'airline_revenue'\n",
    "    conn = create_engine(f'{dialect}://{user_name}:{password}@{host}:{port}/{db_name}')\n",
    "   \n",
    "    data[0].to_sql(con=conn, name='months', if_exists='replace', index=False)\n",
    "    data[1].to_sql(con=conn, name='quarters', if_exists='replace', index=False)\n",
    "    data[2].to_sql(con=conn, name='monthly_asm', if_exists='replace', index=False)\n",
    "    data[3].to_sql(con=conn, name='monthly_rpm', if_exists='replace', index=False)\n",
    "    data[4].to_sql(con=conn, name='monthly_plf', if_exists='replace', index=False)\n",
    "    data[5].to_sql(con=conn, name='monthly_passengers', if_exists='replace', index=False)\n",
    "    data[6].to_sql(con=conn, name='monthly_flights', if_exists='replace', index=False)\n",
    "    data[7].to_sql(con=conn, name='monthly_netincome', if_exists='replace', index=False)\n",
    "    data[8].to_sql(con=conn, name='monthly_or', if_exists='replace', index=False) "
   ]
  },
  {
   "cell_type": "code",
   "execution_count": 9,
   "metadata": {},
   "outputs": [],
   "source": [
    "def log(message):\n",
    "    timestamp_format = '%Y-%h-%d-%H:%M:%S' # Year-Monthname-Day-Hour-Minute-Second\n",
    "    now = datetime.now()\n",
    "    timestamp = now.strftime(timestamp_format)\n",
    "    with open(\"./data/logfile.txt\",\"a\") as f:\n",
    "        f.write(timestamp + ',' + message + '\\n')"
   ]
  },
  {
   "cell_type": "code",
   "execution_count": 10,
   "metadata": {},
   "outputs": [
    {
     "name": "stdout",
     "output_type": "stream",
     "text": [
      "./data/asm_for_all_airports.csv\n",
      "./data/operating_revuenue_all_regions.csv\n",
      "./data/flights_for_all_airports.csv\n",
      "./data/net_income_all_regions.csv\n",
      "./data/rpm_for_all_airports.csv\n",
      "./data/passengers_for_all_airports.csv\n"
     ]
    }
   ],
   "source": [
    "# Running ETL process\n",
    "log(\"ETL Job Started\")\n",
    "log(\"Extract phase Started\")\n",
    "extracted_data = extract()\n",
    "log(\"Extract phase Ended\")\n",
    "log(\"Transform phase Started\")\n",
    "transformed_data = transform(extracted_data)\n",
    "log(\"Transform phase Ended\")\n",
    "log(\"Load phase Started\")\n",
    "load(transformed_data)\n",
    "log(\"Load phase Ended\")\n",
    "log(\"ETL Job Ended\")"
   ]
  },
  {
   "cell_type": "code",
   "execution_count": 11,
   "metadata": {},
   "outputs": [],
   "source": [
    "# Reterieving data from tables\n",
    "cur, conn = create_revenuedb_connection()\n",
    "conn.set_session(autocommit=True)"
   ]
  },
  {
   "cell_type": "code",
   "execution_count": 12,
   "metadata": {},
   "outputs": [
    {
     "name": "stdout",
     "output_type": "stream",
     "text": [
      "[(1, 2003, 1), (2, 2003, 2), (3, 2003, 3), (4, 2003, 4), (5, 2003, 5)]\n"
     ]
    }
   ],
   "source": [
    "# Reterieve month details\n",
    "cur.execute(\"\"\" SELECT * FROM months LIMIT(5); \"\"\")\n",
    "month_details = cur.fetchall()\n",
    "print(month_details)"
   ]
  },
  {
   "cell_type": "code",
   "execution_count": 13,
   "metadata": {},
   "outputs": [
    {
     "name": "stdout",
     "output_type": "stream",
     "text": [
      "[(1, 2003, 1), (2, 2003, 2), (3, 2003, 3), (4, 2003, 4), (5, 2004, 1)]\n"
     ]
    }
   ],
   "source": [
    "# Reterieve quarter details\n",
    "cur.execute(\"\"\" SELECT * FROM quarters LIMIT(5); \"\"\")\n",
    "quarter_details = cur.fetchall()\n",
    "print(quarter_details)"
   ]
  },
  {
   "cell_type": "code",
   "execution_count": 14,
   "metadata": {},
   "outputs": [
    {
     "name": "stdout",
     "output_type": "stream",
     "text": [
      "[(1, 2003, 1, 9801309, 4237389, 14038698), (2, 2003, 2, 8476555, 3665686, 12142241), (3, 2003, 3, 9782676, 4147309, 13929984), (4, 2003, 4, 9336457, 3874139, 13210596), (5, 2003, 5, 9432542, 3912655, 13345197)]\n"
     ]
    }
   ],
   "source": [
    "# Reterieve ASM details\n",
    "cur.execute(\"\"\" SELECT * FROM monthly_asm LIMIT(5); \"\"\")\n",
    "asm_details = cur.fetchall()\n",
    "print(asm_details)"
   ]
  },
  {
   "cell_type": "code",
   "execution_count": 15,
   "metadata": {},
   "outputs": [
    {
     "name": "stdout",
     "output_type": "stream",
     "text": [
      "[(1, 2003, 1, 6428843, 2976704, 9405547), (2, 2003, 2, 5861473, 2493611, 8355084), (3, 2003, 3, 7095490, 2886137, 9981627), (4, 2003, 4, 6764567, 2561054, 9325622), (5, 2003, 5, 7055380, 2783080, 9838460)]\n"
     ]
    }
   ],
   "source": [
    "# Reterieve RPM details\n",
    "cur.execute(\"\"\" SELECT * FROM monthly_rpm LIMIT(5); \"\"\")\n",
    "rpm_details = cur.fetchall()\n",
    "print(rpm_details)"
   ]
  },
  {
   "cell_type": "code",
   "execution_count": 16,
   "metadata": {},
   "outputs": [
    {
     "name": "stdout",
     "output_type": "stream",
     "text": [
      "[(1, 1, 1, 65.59, 70.25, 67.92), (2, 2, 2, 69.15, 68.03, 68.59), (3, 3, 3, 72.53, 69.59, 71.06), (4, 4, 4, 72.45, 66.11, 69.28), (5, 5, 5, 74.8, 71.13, 72.96)]\n"
     ]
    }
   ],
   "source": [
    "# Reterieve PLF details\n",
    "cur.execute(\"\"\" SELECT * FROM monthly_plf LIMIT(5); \"\"\")\n",
    "plf_details = cur.fetchall()\n",
    "print(plf_details)"
   ]
  },
  {
   "cell_type": "code",
   "execution_count": 17,
   "metadata": {},
   "outputs": [
    {
     "name": "stdout",
     "output_type": "stream",
     "text": [
      "[(1, 2003, 1, 5659172, 1354646, 7013818), (2, 2003, 2, 5224456, 1139470, 6363926), (3, 2003, 3, 6307672, 1320809, 7628481), (4, 2003, 4, 5905978, 1197107, 7103085), (5, 2003, 5, 6217128, 1230334, 7447462)]\n"
     ]
    }
   ],
   "source": [
    "# Reterieve passenger details\n",
    "cur.execute(\"\"\" SELECT * FROM monthly_passengers LIMIT(5); \"\"\")\n",
    "passenger_details = cur.fetchall()\n",
    "print(passenger_details)"
   ]
  },
  {
   "cell_type": "code",
   "execution_count": 18,
   "metadata": {},
   "outputs": [
    {
     "name": "stdout",
     "output_type": "stream",
     "text": [
      "[(1, 2003, 1, 65960, 12254, 78214), (2, 2003, 2, 56960, 10503, 67463), (3, 2003, 3, 65168, 11957, 77125), (4, 2003, 4, 62117, 11065, 73182), (5, 2003, 5, 62611, 10770, 73381)]\n"
     ]
    }
   ],
   "source": [
    "# Reterieve passenger details\n",
    "cur.execute(\"\"\" SELECT * FROM monthly_flights LIMIT(5); \"\"\")\n",
    "flight_details = cur.fetchall()\n",
    "print(flight_details)"
   ]
  },
  {
   "cell_type": "code",
   "execution_count": 19,
   "metadata": {},
   "outputs": [
    {
     "name": "stdout",
     "output_type": "stream",
     "text": [
      "[(1, 2003, 1, 65960, 12254, 78214), (2, 2003, 2, 56960, 10503, 67463), (3, 2003, 3, 65168, 11957, 77125), (4, 2003, 4, 62117, 11065, 73182), (5, 2003, 5, 62611, 10770, 73381)]\n"
     ]
    }
   ],
   "source": [
    "# Reterieve passenger details\n",
    "cur.execute(\"\"\" SELECT * FROM monthly_flights LIMIT(5); \"\"\")\n",
    "flight_details = cur.fetchall()\n",
    "print(flight_details)"
   ]
  },
  {
   "cell_type": "code",
   "execution_count": 20,
   "metadata": {},
   "outputs": [
    {
     "name": "stdout",
     "output_type": "stream",
     "text": [
      "[(1, 2003, 1, -963145, -28634, -29409, -10401, -1031589), (2, 2003, 2, -284473, 30279, 118489, 2767, -132938), (3, 2003, 3, -276719, 79002, 144784, 28694, -24239), (4, 2003, 4, -295354, 63386, 74234, 28009, -129725), (5, 2004, 1, -357163, 92037, 61890, 21563, -181673)]\n"
     ]
    }
   ],
   "source": [
    "# Reterieve passenger details\n",
    "cur.execute(\"\"\" SELECT * FROM monthly_netincome LIMIT(5); \"\"\")\n",
    "netincome_details = cur.fetchall()\n",
    "print(netincome_details )"
   ]
  },
  {
   "cell_type": "code",
   "execution_count": 21,
   "metadata": {},
   "outputs": [
    {
     "name": "stdout",
     "output_type": "stream",
     "text": [
      "[(1, 2003, 1, 2891694, 667279, 445192, 103704, 4107869), (2, 2003, 2, 3063802, 598619, 570830, 82795, 4316046), (3, 2003, 3, 3104546, 702697, 662916, 125824, 4595983), (4, 2003, 4, 3004298, 700261, 542110, 136757, 4383426), (5, 2004, 1, 3033877, 817558, 516215, 135452, 4503102)]\n"
     ]
    }
   ],
   "source": [
    "# Reterieve passenger details\n",
    "cur.execute(\"\"\" SELECT * FROM monthly_or LIMIT(5); \"\"\")\n",
    "or_details = cur.fetchall()\n",
    "print(or_details )"
   ]
  },
  {
   "cell_type": "code",
   "execution_count": 22,
   "metadata": {},
   "outputs": [],
   "source": [
    "# Close connection\n",
    "cur.close()\n",
    "conn.close()"
   ]
  }
 ],
 "metadata": {
  "interpreter": {
   "hash": "31f2aee4e71d21fbe5cf8b01ff0e069b9275f58929596ceb00d14d90e3e16cd6"
  },
  "kernelspec": {
   "display_name": "Python 3.8.10 64-bit",
   "language": "python",
   "name": "python3"
  },
  "language_info": {
   "codemirror_mode": {
    "name": "ipython",
    "version": 3
   },
   "file_extension": ".py",
   "mimetype": "text/x-python",
   "name": "python",
   "nbconvert_exporter": "python",
   "pygments_lexer": "ipython3",
   "version": "3.8.10"
  },
  "orig_nbformat": 4
 },
 "nbformat": 4,
 "nbformat_minor": 2
}
